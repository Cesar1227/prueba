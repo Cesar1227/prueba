{
 "cells": [
  {
   "cell_type": "code",
   "execution_count": 3,
   "id": "6f6b7f39",
   "metadata": {},
   "outputs": [
    {
     "name": "stdout",
     "output_type": "stream",
     "text": [
      "Requirement already satisfied: pyttsx3 in c:\\users\\giova\\miniconda3\\lib\\site-packages (2.90)\n",
      "Requirement already satisfied: pypiwin32 in c:\\users\\giova\\miniconda3\\lib\\site-packages (from pyttsx3) (223)\n",
      "Requirement already satisfied: pywin32 in c:\\users\\giova\\miniconda3\\lib\\site-packages (from pyttsx3) (227)\n",
      "Requirement already satisfied: comtypes in c:\\users\\giova\\miniconda3\\lib\\site-packages (from pyttsx3) (1.1.10)\n"
     ]
    }
   ],
   "source": [
    "!pip install pyttsx3"
   ]
  },
  {
   "cell_type": "code",
   "execution_count": 4,
   "id": "cf68effb",
   "metadata": {
    "scrolled": false
   },
   "outputs": [
    {
     "name": "stdout",
     "output_type": "stream",
     "text": [
      "Collecting pyautogui\n",
      "  Downloading PyAutoGUI-0.9.53.tar.gz (59 kB)\n",
      "Collecting pymsgbox\n",
      "  Downloading PyMsgBox-1.0.9.tar.gz (18 kB)\n",
      "  Installing build dependencies: started\n",
      "  Installing build dependencies: finished with status 'done'\n",
      "  Getting requirements to build wheel: started\n",
      "  Getting requirements to build wheel: finished with status 'done'\n",
      "    Preparing wheel metadata: started\n",
      "    Preparing wheel metadata: finished with status 'done'\n",
      "Collecting PyTweening>=1.0.1\n",
      "  Downloading PyTweening-1.0.3.zip (15 kB)\n",
      "Collecting pyscreeze>=0.1.21\n",
      "  Downloading PyScreeze-0.1.27.tar.gz (25 kB)\n",
      "  Installing build dependencies: started\n",
      "  Installing build dependencies: finished with status 'done'\n",
      "  Getting requirements to build wheel: started\n",
      "  Getting requirements to build wheel: finished with status 'done'\n",
      "    Preparing wheel metadata: started\n",
      "    Preparing wheel metadata: finished with status 'done'\n",
      "Collecting pygetwindow>=0.0.5\n",
      "  Downloading PyGetWindow-0.0.9.tar.gz (9.7 kB)\n",
      "Collecting mouseinfo\n",
      "  Downloading MouseInfo-0.1.3.tar.gz (10 kB)\n",
      "Collecting pyrect\n",
      "  Downloading PyRect-0.1.4.tar.gz (15 kB)\n",
      "Requirement already satisfied: Pillow>=5.2.0 in c:\\users\\giova\\miniconda3\\lib\\site-packages (from pyscreeze>=0.1.21->pyautogui) (8.3.1)\n",
      "Collecting pyperclip\n",
      "  Downloading pyperclip-1.8.2.tar.gz (20 kB)\n",
      "Building wheels for collected packages: pyautogui, pygetwindow, pyscreeze, PyTweening, mouseinfo, pymsgbox, pyperclip, pyrect\n",
      "  Building wheel for pyautogui (setup.py): started\n",
      "  Building wheel for pyautogui (setup.py): finished with status 'done'\n",
      "  Created wheel for pyautogui: filename=PyAutoGUI-0.9.53-py3-none-any.whl size=36583 sha256=e7b53b0783673738528f9458742f70baf6d7111b0859993aef2255ba6760800c\n",
      "  Stored in directory: c:\\users\\giova\\appdata\\local\\pip\\cache\\wheels\\23\\db\\81\\a14b5eca81ccb97c15e5bbea8d5394b8cbf6b36451d89dd648\n",
      "  Building wheel for pygetwindow (setup.py): started\n",
      "  Building wheel for pygetwindow (setup.py): finished with status 'done'\n",
      "  Created wheel for pygetwindow: filename=PyGetWindow-0.0.9-py3-none-any.whl size=11078 sha256=6a03f56a13cb0362514d73c5571d4a8bb580bd227aa858a13beb6e238322866b\n",
      "  Stored in directory: c:\\users\\giova\\appdata\\local\\pip\\cache\\wheels\\91\\7e\\35\\62d9062a06cfc46fea39e26860253da36f258b3f3fd96c91c3\n",
      "  Building wheel for pyscreeze (PEP 517): started\n",
      "  Building wheel for pyscreeze (PEP 517): finished with status 'done'\n",
      "  Created wheel for pyscreeze: filename=PyScreeze-0.1.27-py3-none-any.whl size=12893 sha256=50a614bfb05037ef8b343c2e6ac06d4dad2b4c9005e4eff9bb70b1a59458ee32\n",
      "  Stored in directory: c:\\users\\giova\\appdata\\local\\pip\\cache\\wheels\\e7\\cf\\e4\\6a16ce50f4213c83255fb057549e804a03ffa1ace412130e45\n",
      "  Building wheel for PyTweening (setup.py): started\n",
      "  Building wheel for PyTweening (setup.py): finished with status 'done'\n",
      "  Created wheel for PyTweening: filename=PyTweening-1.0.3-py3-none-any.whl size=3815 sha256=bf1bfdaa5a3e45e19726810bdb43b332c0cd8ae873eb0cc58f6ea46d3839e829\n",
      "  Stored in directory: c:\\users\\giova\\appdata\\local\\pip\\cache\\wheels\\1c\\ca\\56\\5da436934a2b244752a7ebc864407729a098271a531a29493c\n",
      "  Building wheel for mouseinfo (setup.py): started\n",
      "  Building wheel for mouseinfo (setup.py): finished with status 'done'\n",
      "  Created wheel for mouseinfo: filename=MouseInfo-0.1.3-py3-none-any.whl size=10905 sha256=876677b89d6212005cf4e066de9d318c2478d1c5ee47e3fd45be1017b7d8237f\n",
      "  Stored in directory: c:\\users\\giova\\appdata\\local\\pip\\cache\\wheels\\43\\9a\\7f\\373736bf37b94b358be41fb2f317a0f9940a1dcb7a733e1707\n",
      "  Building wheel for pymsgbox (PEP 517): started\n",
      "  Building wheel for pymsgbox (PEP 517): finished with status 'done'\n",
      "  Created wheel for pymsgbox: filename=PyMsgBox-1.0.9-py3-none-any.whl size=7420 sha256=32155e261f27c75639eed54548639a480ed36e707bf8a0b9467c643c735c7cec\n",
      "  Stored in directory: c:\\users\\giova\\appdata\\local\\pip\\cache\\wheels\\39\\eb\\0e\\1587e06da34adf675ad26a113da25df542991f5095303374ef\n",
      "  Building wheel for pyperclip (setup.py): started\n",
      "  Building wheel for pyperclip (setup.py): finished with status 'done'\n",
      "  Created wheel for pyperclip: filename=pyperclip-1.8.2-py3-none-any.whl size=11107 sha256=aa9fbc4f29e7e6109658d056097319db1152192b402ef6c055f9dd7789838b04\n",
      "  Stored in directory: c:\\users\\giova\\appdata\\local\\pip\\cache\\wheels\\9f\\18\\84\\8f69f8b08169c7bae2dde6bd7daf0c19fca8c8e500ee620a28\n",
      "  Building wheel for pyrect (setup.py): started\n",
      "  Building wheel for pyrect (setup.py): finished with status 'done'\n",
      "  Created wheel for pyrect: filename=PyRect-0.1.4-py2.py3-none-any.whl size=9547 sha256=0186babc0ced9351bd325278979ff45605e6ba242f396bb8a1ef22470322a1bb\n",
      "  Stored in directory: c:\\users\\giova\\appdata\\local\\pip\\cache\\wheels\\97\\5f\\8e\\6f26a5b00d46679ee2391a3542334274ce8bdaf7c6b0f3504c\n",
      "Successfully built pyautogui pygetwindow pyscreeze PyTweening mouseinfo pymsgbox pyperclip pyrect\n",
      "Installing collected packages: pyrect, pyperclip, PyTweening, pyscreeze, pymsgbox, pygetwindow, mouseinfo, pyautogui\n",
      "Successfully installed PyTweening-1.0.3 mouseinfo-0.1.3 pyautogui-0.9.53 pygetwindow-0.0.9 pymsgbox-1.0.9 pyperclip-1.8.2 pyrect-0.1.4 pyscreeze-0.1.27\n"
     ]
    }
   ],
   "source": [
    "!pip install pyautogui"
   ]
  },
  {
   "cell_type": "code",
   "execution_count": 5,
   "id": "6ef098b2",
   "metadata": {
    "scrolled": true
   },
   "outputs": [
    {
     "name": "stdout",
     "output_type": "stream",
     "text": [
      "Collecting pipwin\n",
      "  Downloading pipwin-0.5.1.tar.gz (8.8 kB)\n",
      "Collecting docopt\n",
      "  Downloading docopt-0.6.2.tar.gz (25 kB)\n",
      "Requirement already satisfied: requests in c:\\users\\giova\\miniconda3\\lib\\site-packages (from pipwin) (2.25.1)\n",
      "Collecting pyprind\n",
      "  Downloading PyPrind-2.11.3-py2.py3-none-any.whl (8.4 kB)\n",
      "Requirement already satisfied: six in c:\\users\\giova\\miniconda3\\lib\\site-packages (from pipwin) (1.16.0)\n",
      "Collecting beautifulsoup4>=4.9.0\n",
      "  Downloading beautifulsoup4-4.9.3-py3-none-any.whl (115 kB)\n",
      "Collecting js2py\n",
      "  Downloading Js2Py-0.71-py3-none-any.whl (1.0 MB)\n",
      "Requirement already satisfied: packaging in c:\\users\\giova\\miniconda3\\lib\\site-packages (from pipwin) (21.0)\n",
      "Collecting pySmartDL>=1.3.1\n",
      "  Downloading pySmartDL-1.3.4-py3-none-any.whl (20 kB)\n",
      "Collecting soupsieve>1.2\n",
      "  Downloading soupsieve-2.2.1-py3-none-any.whl (33 kB)\n",
      "Collecting tzlocal>=1.2\n",
      "  Downloading tzlocal-3.0-py3-none-any.whl (16 kB)\n",
      "Collecting pyjsparser>=2.5.1\n",
      "  Downloading pyjsparser-2.7.1.tar.gz (24 kB)\n",
      "Collecting backports.zoneinfo\n",
      "  Downloading backports.zoneinfo-0.2.1-cp37-cp37m-win_amd64.whl (38 kB)\n",
      "Collecting tzdata\n",
      "  Downloading tzdata-2021.1-py2.py3-none-any.whl (338 kB)\n",
      "Requirement already satisfied: pyparsing>=2.0.2 in c:\\users\\giova\\miniconda3\\lib\\site-packages (from packaging->pipwin) (2.4.7)\n",
      "Requirement already satisfied: idna<3,>=2.5 in c:\\users\\giova\\miniconda3\\lib\\site-packages (from requests->pipwin) (2.10)\n",
      "Requirement already satisfied: urllib3<1.27,>=1.21.1 in c:\\users\\giova\\miniconda3\\lib\\site-packages (from requests->pipwin) (1.26.6)\n",
      "Requirement already satisfied: certifi>=2017.4.17 in c:\\users\\giova\\miniconda3\\lib\\site-packages (from requests->pipwin) (2021.5.30)\n",
      "Requirement already satisfied: chardet<5,>=3.0.2 in c:\\users\\giova\\miniconda3\\lib\\site-packages (from requests->pipwin) (4.0.0)\n",
      "Building wheels for collected packages: pipwin, docopt, pyjsparser\n",
      "  Building wheel for pipwin (setup.py): started\n",
      "  Building wheel for pipwin (setup.py): finished with status 'done'\n",
      "  Created wheel for pipwin: filename=pipwin-0.5.1-py2.py3-none-any.whl size=8778 sha256=9e52a0a7794efef5405a8861a0d0a09a0dd77c26fec8eacaecc78c595285a65a\n",
      "  Stored in directory: c:\\users\\giova\\appdata\\local\\pip\\cache\\wheels\\4e\\f2\\06\\9024048eece9a22afc7a013395d6de2d345f56185095550d4c\n",
      "  Building wheel for docopt (setup.py): started\n",
      "  Building wheel for docopt (setup.py): finished with status 'done'\n",
      "  Created wheel for docopt: filename=docopt-0.6.2-py2.py3-none-any.whl size=13705 sha256=7e2efef79336f0d08dd129f6700d1126d7bcadcaebe147a0cfbe36ef4ab07bb4\n",
      "  Stored in directory: c:\\users\\giova\\appdata\\local\\pip\\cache\\wheels\\72\\b0\\3f\\1d95f96ff986c7dfffe46ce2be4062f38ebd04b506c77c81b9\n",
      "  Building wheel for pyjsparser (setup.py): started\n",
      "  Building wheel for pyjsparser (setup.py): finished with status 'done'\n",
      "  Created wheel for pyjsparser: filename=pyjsparser-2.7.1-py3-none-any.whl size=25998 sha256=ca43c10240667e17f0484df3ea792530c2ae773c64f54110206f2e655c3c2f5c\n",
      "  Stored in directory: c:\\users\\giova\\appdata\\local\\pip\\cache\\wheels\\2a\\80\\ac\\dcd2bdbd03dd2b7b7e2bf3e5afbda6a1ab7935bbce314969da\n",
      "Successfully built pipwin docopt pyjsparser\n",
      "Installing collected packages: tzdata, backports.zoneinfo, tzlocal, soupsieve, pyjsparser, pySmartDL, pyprind, js2py, docopt, beautifulsoup4, pipwin\n",
      "Successfully installed backports.zoneinfo-0.2.1 beautifulsoup4-4.9.3 docopt-0.6.2 js2py-0.71 pipwin-0.5.1 pySmartDL-1.3.4 pyjsparser-2.7.1 pyprind-2.11.3 soupsieve-2.2.1 tzdata-2021.1 tzlocal-3.0\n"
     ]
    }
   ],
   "source": [
    "!pip install pipwin"
   ]
  },
  {
   "cell_type": "code",
   "execution_count": 6,
   "id": "03ccab40",
   "metadata": {
    "scrolled": false
   },
   "outputs": [
    {
     "name": "stdout",
     "output_type": "stream",
     "text": [
      "Collecting SpeechRecognition\n",
      "  Downloading SpeechRecognition-3.8.1-py2.py3-none-any.whl (32.8 MB)\n",
      "Installing collected packages: SpeechRecognition\n",
      "Successfully installed SpeechRecognition-3.8.1\n"
     ]
    }
   ],
   "source": [
    "!pip install SpeechRecognition"
   ]
  },
  {
   "cell_type": "code",
   "execution_count": 7,
   "id": "f23fcedb",
   "metadata": {},
   "outputs": [
    {
     "name": "stdout",
     "output_type": "stream",
     "text": [
      "Requirement already satisfied: speechrecognition in c:\\users\\giova\\miniconda3\\lib\\site-packages (3.8.1)\n"
     ]
    }
   ],
   "source": [
    "!pip install --upgrade speechrecognition"
   ]
  },
  {
   "cell_type": "code",
   "execution_count": 8,
   "id": "6e7d8f97",
   "metadata": {},
   "outputs": [
    {
     "name": "stdout",
     "output_type": "stream",
     "text": [
      "Collecting mysql-connector\n",
      "  Downloading mysql-connector-2.2.9.tar.gz (11.9 MB)\n",
      "Building wheels for collected packages: mysql-connector\n",
      "  Building wheel for mysql-connector (setup.py): started\n",
      "  Building wheel for mysql-connector (setup.py): finished with status 'done'\n",
      "  Created wheel for mysql-connector: filename=mysql_connector-2.2.9-cp37-cp37m-win_amd64.whl size=247947 sha256=a6d9c08b21141f6e5904dcf71f17c84baf37442e4ee994da7ebcae2f4a5febcf\n",
      "  Stored in directory: c:\\users\\giova\\appdata\\local\\pip\\cache\\wheels\\42\\2f\\c3\\692fc7fc1f0d8c06b9175d94f0fc30f4f92348f5df5af1b8b7\n",
      "Successfully built mysql-connector\n",
      "Installing collected packages: mysql-connector\n",
      "Successfully installed mysql-connector-2.2.9\n"
     ]
    }
   ],
   "source": [
    "!pip install mysql-connector"
   ]
  },
  {
   "cell_type": "code",
   "execution_count": 9,
   "id": "b755209c",
   "metadata": {},
   "outputs": [
    {
     "name": "stdout",
     "output_type": "stream",
     "text": [
      "Collecting python-time\n",
      "  Downloading python-time-0.3.0.tar.gz (2.6 kB)\n",
      "Collecting arrow\n",
      "  Downloading arrow-1.1.1-py3-none-any.whl (60 kB)\n",
      "Requirement already satisfied: typing-extensions in c:\\users\\giova\\miniconda3\\lib\\site-packages (from arrow->python-time) (3.10.0.0)\n",
      "Requirement already satisfied: python-dateutil>=2.7.0 in c:\\users\\giova\\miniconda3\\lib\\site-packages (from arrow->python-time) (2.8.2)\n",
      "Requirement already satisfied: six>=1.5 in c:\\users\\giova\\miniconda3\\lib\\site-packages (from python-dateutil>=2.7.0->arrow->python-time) (1.16.0)\n",
      "Building wheels for collected packages: python-time\n",
      "  Building wheel for python-time (setup.py): started\n",
      "  Building wheel for python-time (setup.py): finished with status 'done'\n",
      "  Created wheel for python-time: filename=python_time-0.3.0-py3-none-any.whl size=2778 sha256=acb7f73c7485da476da3587d135c0f080c4886ac2c75faff8cd711729f724f35\n",
      "  Stored in directory: c:\\users\\giova\\appdata\\local\\pip\\cache\\wheels\\82\\31\\68\\2982228270f8d717edc32df1483c33b697b0a34e18d67d2eb2\n",
      "Successfully built python-time\n",
      "Installing collected packages: arrow, python-time\n",
      "Successfully installed arrow-1.1.1 python-time-0.3.0\n"
     ]
    }
   ],
   "source": [
    "!pip install python-time"
   ]
  },
  {
   "cell_type": "code",
   "execution_count": 26,
   "id": "8a6ced7b",
   "metadata": {},
   "outputs": [
    {
     "name": "stdout",
     "output_type": "stream",
     "text": [
      "Processing c:\\users\\giova\\downloads\\asistente - iris\\pyaudio-0.2.11-cp37-cp37m-win_amd64.whl\n",
      "Installing collected packages: PyAudio\n",
      "Successfully installed PyAudio-0.2.11\n"
     ]
    }
   ],
   "source": [
    "!pip install PyAudio-0.2.11-cp37-cp37m-win_amd64.whl"
   ]
  },
  {
   "cell_type": "code",
   "execution_count": 25,
   "id": "fcda2b0d",
   "metadata": {},
   "outputs": [
    {
     "name": "stdout",
     "output_type": "stream",
     "text": [
      "Requirement already satisfied: subprocess.run in c:\\users\\giova\\miniconda3\\lib\\site-packages (0.0.8)\n"
     ]
    }
   ],
   "source": [
    "!pip install subprocess.run"
   ]
  },
  {
   "cell_type": "code",
   "execution_count": 19,
   "id": "d8ec6893",
   "metadata": {},
   "outputs": [
    {
     "name": "stdout",
     "output_type": "stream",
     "text": [
      "Requirement already satisfied: pyowm in c:\\users\\giova\\miniconda3\\lib\\site-packages (3.2.0)\n",
      "Requirement already satisfied: PySocks<2,>=1.7.1 in c:\\users\\giova\\miniconda3\\lib\\site-packages (from pyowm) (1.7.1)\n",
      "Requirement already satisfied: requests[socks] in c:\\users\\giova\\miniconda3\\lib\\site-packages (from pyowm) (2.25.1)\n",
      "Requirement already satisfied: geojson<3,>=2.3.0 in c:\\users\\giova\\miniconda3\\lib\\site-packages (from pyowm) (2.5.0)\n",
      "Requirement already satisfied: chardet<5,>=3.0.2 in c:\\users\\giova\\miniconda3\\lib\\site-packages (from requests[socks]->pyowm) (4.0.0)\n",
      "Requirement already satisfied: urllib3<1.27,>=1.21.1 in c:\\users\\giova\\miniconda3\\lib\\site-packages (from requests[socks]->pyowm) (1.26.6)\n",
      "Requirement already satisfied: certifi>=2017.4.17 in c:\\users\\giova\\miniconda3\\lib\\site-packages (from requests[socks]->pyowm) (2021.5.30)\n",
      "Requirement already satisfied: idna<3,>=2.5 in c:\\users\\giova\\miniconda3\\lib\\site-packages (from requests[socks]->pyowm) (2.10)\n"
     ]
    }
   ],
   "source": [
    "!pip install pyowm"
   ]
  },
  {
   "cell_type": "code",
   "execution_count": 14,
   "id": "7a730f22",
   "metadata": {},
   "outputs": [
    {
     "name": "stdout",
     "output_type": "stream",
     "text": [
      "Collecting pywhatkit\n",
      "  Downloading pywhatkit-5.1-py3-none-any.whl (12 kB)\n",
      "Requirement already satisfied: requests in c:\\users\\giova\\miniconda3\\lib\\site-packages (from pywhatkit) (2.25.1)\n",
      "Requirement already satisfied: pyautogui in c:\\users\\giova\\miniconda3\\lib\\site-packages (from pywhatkit) (0.9.53)\n",
      "Collecting wikipedia\n",
      "  Downloading wikipedia-1.4.0.tar.gz (27 kB)\n",
      "Requirement already satisfied: Pillow in c:\\users\\giova\\miniconda3\\lib\\site-packages (from pywhatkit) (8.3.1)\n",
      "Requirement already satisfied: pygetwindow>=0.0.5 in c:\\users\\giova\\miniconda3\\lib\\site-packages (from pyautogui->pywhatkit) (0.0.9)\n",
      "Requirement already satisfied: pymsgbox in c:\\users\\giova\\miniconda3\\lib\\site-packages (from pyautogui->pywhatkit) (1.0.9)\n",
      "Requirement already satisfied: PyTweening>=1.0.1 in c:\\users\\giova\\miniconda3\\lib\\site-packages (from pyautogui->pywhatkit) (1.0.3)\n",
      "Requirement already satisfied: mouseinfo in c:\\users\\giova\\miniconda3\\lib\\site-packages (from pyautogui->pywhatkit) (0.1.3)\n",
      "Requirement already satisfied: pyscreeze>=0.1.21 in c:\\users\\giova\\miniconda3\\lib\\site-packages (from pyautogui->pywhatkit) (0.1.27)\n",
      "Requirement already satisfied: pyrect in c:\\users\\giova\\miniconda3\\lib\\site-packages (from pygetwindow>=0.0.5->pyautogui->pywhatkit) (0.1.4)\n",
      "Requirement already satisfied: pyperclip in c:\\users\\giova\\miniconda3\\lib\\site-packages (from mouseinfo->pyautogui->pywhatkit) (1.8.2)\n",
      "Requirement already satisfied: urllib3<1.27,>=1.21.1 in c:\\users\\giova\\miniconda3\\lib\\site-packages (from requests->pywhatkit) (1.26.6)\n",
      "Requirement already satisfied: idna<3,>=2.5 in c:\\users\\giova\\miniconda3\\lib\\site-packages (from requests->pywhatkit) (2.10)\n",
      "Requirement already satisfied: certifi>=2017.4.17 in c:\\users\\giova\\miniconda3\\lib\\site-packages (from requests->pywhatkit) (2021.5.30)\n",
      "Requirement already satisfied: chardet<5,>=3.0.2 in c:\\users\\giova\\miniconda3\\lib\\site-packages (from requests->pywhatkit) (4.0.0)\n",
      "Requirement already satisfied: beautifulsoup4 in c:\\users\\giova\\miniconda3\\lib\\site-packages (from wikipedia->pywhatkit) (4.9.3)\n",
      "Requirement already satisfied: soupsieve>1.2 in c:\\users\\giova\\miniconda3\\lib\\site-packages (from beautifulsoup4->wikipedia->pywhatkit) (2.2.1)\n",
      "Building wheels for collected packages: wikipedia\n",
      "  Building wheel for wikipedia (setup.py): started\n",
      "  Building wheel for wikipedia (setup.py): finished with status 'done'\n",
      "  Created wheel for wikipedia: filename=wikipedia-1.4.0-py3-none-any.whl size=11686 sha256=59810f084f2d408e8c70a1fea2cf7c946c6ad49c91de30f95fd944cafc97bdfb\n",
      "  Stored in directory: c:\\users\\giova\\appdata\\local\\pip\\cache\\wheels\\15\\93\\6d\\5b2c68b8a64c7a7a04947b4ed6d89fb557dcc6bc27d1d7f3ba\n",
      "Successfully built wikipedia\n",
      "Installing collected packages: wikipedia, pywhatkit\n",
      "Successfully installed pywhatkit-5.1 wikipedia-1.4.0\n"
     ]
    }
   ],
   "source": [
    "!pip install pywhatkit"
   ]
  },
  {
   "cell_type": "code",
   "execution_count": 20,
   "id": "6e292f0a",
   "metadata": {},
   "outputs": [
    {
     "name": "stdout",
     "output_type": "stream",
     "text": [
      "Requirement already satisfied: selenium in c:\\users\\giova\\miniconda3\\lib\\site-packages (3.141.0)\n",
      "Requirement already satisfied: urllib3 in c:\\users\\giova\\miniconda3\\lib\\site-packages (from selenium) (1.26.6)\n"
     ]
    }
   ],
   "source": [
    "!pip install selenium"
   ]
  },
  {
   "cell_type": "code",
   "execution_count": 21,
   "id": "171087d0",
   "metadata": {},
   "outputs": [
    {
     "name": "stdout",
     "output_type": "stream",
     "text": [
      "Requirement already satisfied: parsel in c:\\users\\giova\\miniconda3\\lib\\site-packages (1.5.2)\n",
      "Requirement already satisfied: w3lib>=1.19.0 in c:\\users\\giova\\miniconda3\\lib\\site-packages (from parsel) (1.21.0)\n",
      "Requirement already satisfied: cssselect>=0.9 in c:\\users\\giova\\miniconda3\\lib\\site-packages (from parsel) (1.1.0)\n",
      "Requirement already satisfied: six>=1.5.2 in c:\\users\\giova\\miniconda3\\lib\\site-packages (from parsel) (1.16.0)\n",
      "Requirement already satisfied: lxml in c:\\users\\giova\\miniconda3\\lib\\site-packages (from parsel) (4.6.3)\n"
     ]
    }
   ],
   "source": [
    "!pip install parsel"
   ]
  },
  {
   "cell_type": "code",
   "execution_count": null,
   "id": "73df18a6",
   "metadata": {},
   "outputs": [],
   "source": []
  }
 ],
 "metadata": {
  "kernelspec": {
   "display_name": "Python 3 (ipykernel)",
   "language": "python",
   "name": "python3"
  },
  "language_info": {
   "codemirror_mode": {
    "name": "ipython",
    "version": 3
   },
   "file_extension": ".py",
   "mimetype": "text/x-python",
   "name": "python",
   "nbconvert_exporter": "python",
   "pygments_lexer": "ipython3",
   "version": "3.7.10"
  }
 },
 "nbformat": 4,
 "nbformat_minor": 5
}
